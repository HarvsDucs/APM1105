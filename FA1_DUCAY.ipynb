{
 "cells": [
  {
   "cell_type": "code",
   "execution_count": 1,
   "metadata": {},
   "outputs": [
    {
     "name": "stdout",
     "output_type": "stream",
     "text": [
      "Input kilometer value: 5\n",
      "Total distance in miles is: 3.106855\n"
     ]
    }
   ],
   "source": [
    "kilometer = float(input(\"Input kilometer value: \"))\n",
    "miles = kilometer*0.621371\n",
    "print(f\"Total distance in miles is: {miles}\")"
   ]
  },
  {
   "cell_type": "code",
   "execution_count": 2,
   "metadata": {},
   "outputs": [
    {
     "name": "stdout",
     "output_type": "stream",
     "text": [
      "Input kilometer value: 5\n",
      "How long in minutes: 6\n",
      "How long in seconds: 6\n",
      "Average speed is 30.55922950819672miles/hour\n"
     ]
    }
   ],
   "source": [
    "kilometer = float(input(\"Input kilometer value: \"))\n",
    "miles = kilometer*0.621371\n",
    "time_mins = float(input(\"How long in minutes: \"))\n",
    "time_secs = float(input(\"How long in seconds: \"))\n",
    "total_secs = time_secs+(time_mins*60)\n",
    "total_hour = total_secs/3600\n",
    "mi_hr = miles/total_hour\n",
    "print(f\"Average speed is {mi_hr}miles/hour\")\n"
   ]
  },
  {
   "cell_type": "code",
   "execution_count": null,
   "metadata": {},
   "outputs": [],
   "source": []
  }
 ],
 "metadata": {
  "kernelspec": {
   "display_name": "Python 3",
   "language": "python",
   "name": "python3"
  },
  "language_info": {
   "codemirror_mode": {
    "name": "ipython",
    "version": 3
   },
   "file_extension": ".py",
   "mimetype": "text/x-python",
   "name": "python",
   "nbconvert_exporter": "python",
   "pygments_lexer": "ipython3",
   "version": "3.7.0"
  }
 },
 "nbformat": 4,
 "nbformat_minor": 2
}
