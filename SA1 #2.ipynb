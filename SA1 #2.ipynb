{
 "cells": [
  {
   "cell_type": "code",
   "execution_count": 1,
   "id": "72630e6e",
   "metadata": {},
   "outputs": [
    {
     "name": "stdout",
     "output_type": "stream",
     "text": [
      "Enter number of fibo terms to calculate: 30\n",
      "Iterative approach result: [0, 1, 1, 2, 3, 5, 8, 13, 21, 34, 55, 89, 144, 233, 377, 610, 987, 1597, 2584, 4181, 6765, 10946, 17711, 28657, 46368, 75025, 121393, 196418, 317811, 514229, 832040]\n",
      "Time taken(iterative approach): 0.0 seconds\n",
      "Recursive approach result: [0, 1, 1, 2, 3, 5, 8, 13, 21, 34, 55, 89, 144, 233, 377, 610, 987, 1597, 2584, 4181, 6765, 10946, 17711, 28657, 46368, 75025, 121393, 196418, 317811, 514229, 832040]\n",
      "Time taken(recursive approach): 0.5091145038604736 seconds\n"
     ]
    }
   ],
   "source": [
    "import time\n",
    "\n",
    "def fibonacci_iter(n):\n",
    "    if n == 0:\n",
    "        return 0\n",
    "    fib_seq = [0, 1]\n",
    "    for i in range(2, n+1):\n",
    "        fib_seq.append(fib_seq[i-1] + fib_seq[i-2])\n",
    "    return fib_seq\n",
    "\n",
    "def fibonacci_recur(n):\n",
    "    if n <= 1:\n",
    "        return n\n",
    "    else:\n",
    "        return fibonacci_recur(n-1) + fibonacci_recur(n-2)\n",
    "    \n",
    "n = int(input(\"Enter number of fibo terms to calculate: \"))\n",
    "\n",
    "start_time = time.time()\n",
    "fib_iter = fibonacci_iter(n)\n",
    "end_time = time.time()\n",
    "total_iter_time = end_time - start_time\n",
    "\n",
    "start_time = time.time()\n",
    "fib_recur = [fibonacci_recur(i) for i in range(n+1)]\n",
    "end_time = time.time()\n",
    "total_recur_time = end_time - start_time\n",
    "\n",
    "# Print the Fibonacci sequences and rendering times\n",
    "print(\"Iterative approach result:\", fib_iter)\n",
    "print(f\"Time taken(iterative approach):\", total_iter_time, \"seconds\")\n",
    "print(\"Recursive approach result:\", fib_recur)\n",
    "print(f\"Time taken(recursive approach):\", total_recur_time, \"seconds\")\n"
   ]
  }
 ],
 "metadata": {
  "kernelspec": {
   "display_name": "Python 3 (ipykernel)",
   "language": "python",
   "name": "python3"
  },
  "language_info": {
   "codemirror_mode": {
    "name": "ipython",
    "version": 3
   },
   "file_extension": ".py",
   "mimetype": "text/x-python",
   "name": "python",
   "nbconvert_exporter": "python",
   "pygments_lexer": "ipython3",
   "version": "3.9.13"
  }
 },
 "nbformat": 4,
 "nbformat_minor": 5
}
