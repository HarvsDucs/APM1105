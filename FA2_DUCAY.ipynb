{
 "cells": [
  {
   "cell_type": "code",
   "execution_count": 40,
   "id": "48ebce68",
   "metadata": {},
   "outputs": [
    {
     "data": {
      "text/plain": [
       "-33600"
      ]
     },
     "execution_count": 40,
     "metadata": {},
     "output_type": "execute_result"
    }
   ],
   "source": [
    "def product_of_nums(nums):\n",
    "    x = 1\n",
    "    for number in nums:\n",
    "        x = x*number\n",
    "    return x\n",
    "a = [5, 6, -1, 2, 4, -2, -10, 7]\n",
    "product_of_nums(a)"
   ]
  },
  {
   "cell_type": "code",
   "execution_count": 42,
   "id": "5513590c",
   "metadata": {},
   "outputs": [
    {
     "name": "stdout",
     "output_type": "stream",
     "text": [
      "+ ~ ~ ~ ~ + ~ ~ ~ ~ + ~ ~ ~ ~ + ~ ~ ~ ~ + \n",
      "|         |         |         |         |         \n",
      "|         |         |         |         |         \n",
      "|         |         |         |         |         \n",
      "|         |         |         |         |         \n",
      "+ ~ ~ ~ ~ + ~ ~ ~ ~ + ~ ~ ~ ~ + ~ ~ ~ ~ + \n",
      "|         |         |         |         |         \n",
      "|         |         |         |         |         \n",
      "|         |         |         |         |         \n",
      "|         |         |         |         |         \n",
      "+ ~ ~ ~ ~ + ~ ~ ~ ~ + ~ ~ ~ ~ + ~ ~ ~ ~ + \n",
      "|         |         |         |         |         \n",
      "|         |         |         |         |         \n",
      "|         |         |         |         |         \n",
      "|         |         |         |         |         \n",
      "+ ~ ~ ~ ~ + ~ ~ ~ ~ + ~ ~ ~ ~ + ~ ~ ~ ~ + \n",
      "|         |         |         |         |         \n",
      "|         |         |         |         |         \n",
      "|         |         |         |         |         \n",
      "|         |         |         |         |         \n",
      "+ ~ ~ ~ ~ + ~ ~ ~ ~ + ~ ~ ~ ~ + ~ ~ ~ ~ + \n"
     ]
    }
   ],
   "source": [
    "def grid_draw():\n",
    "    repeats = 0\n",
    "    iterations = 0\n",
    "    while repeats < 4:\n",
    "        print(\"+ \" + \"~ ~ ~ ~ + \" *4)\n",
    "        while iterations < 4:\n",
    "            print(\"|         \"*5)\n",
    "            iterations+=1\n",
    "        iterations = 0\n",
    "        repeats+=1\n",
    "    print(\"+ \" + \"~ ~ ~ ~ + \" *4)\n",
    "grid_draw()"
   ]
  },
  {
   "cell_type": "code",
   "execution_count": null,
   "id": "74b62c36",
   "metadata": {},
   "outputs": [],
   "source": []
  }
 ],
 "metadata": {
  "kernelspec": {
   "display_name": "Python 3 (ipykernel)",
   "language": "python",
   "name": "python3"
  },
  "language_info": {
   "codemirror_mode": {
    "name": "ipython",
    "version": 3
   },
   "file_extension": ".py",
   "mimetype": "text/x-python",
   "name": "python",
   "nbconvert_exporter": "python",
   "pygments_lexer": "ipython3",
   "version": "3.9.13"
  }
 },
 "nbformat": 4,
 "nbformat_minor": 5
}
