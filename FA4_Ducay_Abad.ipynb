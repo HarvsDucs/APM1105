{
 "cells": [
  {
   "cell_type": "code",
   "execution_count": 3,
   "id": "56ea45c6",
   "metadata": {},
   "outputs": [
    {
     "name": "stdout",
     "output_type": "stream",
     "text": [
      "Enter positive values!\n",
      "2.0\n",
      "2.0\n",
      "Input number n: 1\n",
      "Input number m: 0\n",
      "The function returns 2.0!\n",
      "Try again? Y/N only for yes or no: N\n"
     ]
    }
   ],
   "source": [
    "def ack(n,m): \n",
    "    n = float(n)\n",
    "    m = float(m)\n",
    "    if m < 0 or n < 0:\n",
    "        return (\"Enter positive values!\")\n",
    "    if n==0:\n",
    "        return (m+1)\n",
    "    elif m==0:\n",
    "        return ack(n-1,1)\n",
    "    else:\n",
    "        return ack(n-1,ack(n,m-1))\n",
    "print(ack(-1,0))\n",
    "print(ack(1,0))\n",
    "print(ack(0,1))\n",
    "user_input = 0\n",
    "while user_input != \"N\":\n",
    "    n = float(input(\"Input number n: \"))\n",
    "    m = float(input(\"Input number m: \"))\n",
    "    print(f\"The function returns {ack(n,m)}!\")\n",
    "    user_input = input(\"Try again? Y/N only for yes or no: \")"
   ]
  },
  {
   "cell_type": "code",
   "execution_count": 1,
   "id": "448f25ea",
   "metadata": {},
   "outputs": [
    {
     "name": "stdout",
     "output_type": "stream",
     "text": [
      "True\n",
      "False\n",
      "Input number a: 101\n",
      "Input number b: 10\n",
      "The function returns False!\n",
      "Try again? Y/N only for yes or no: N\n"
     ]
    }
   ],
   "source": [
    "def is_power(a, b):\n",
    "    a = float(a)\n",
    "    b = float(b)\n",
    "    if a==b:\n",
    "        return True\n",
    "    elif a<b:\n",
    "        return False\n",
    "    elif b == 1 or b == -1:\n",
    "        return False\n",
    "    elif a%b==0:\n",
    "        n = b\n",
    "        c = 1\n",
    "        while n<=a:\n",
    "            n = (b**c)\n",
    "            if a == n:\n",
    "                return True\n",
    "            c=c+1\n",
    "        return False\n",
    "    else:\n",
    "        return False\n",
    "print(is_power(1000,10))\n",
    "print(is_power(1000,100))\n",
    "user_input = 0\n",
    "while user_input != \"N\":\n",
    "    a = float(input(\"Input number a: \"))\n",
    "    b = float(input(\"Input number b: \"))\n",
    "    print(f\"The function returns {is_power(a,b)}!\")\n",
    "    user_input = input(\"Try again? Y/N only for yes or no: \")\n",
    "    "
   ]
  },
  {
   "cell_type": "code",
   "execution_count": null,
   "id": "0efb8052",
   "metadata": {
    "scrolled": true
   },
   "outputs": [],
   "source": []
  }
 ],
 "metadata": {
  "kernelspec": {
   "display_name": "Python 3 (ipykernel)",
   "language": "python",
   "name": "python3"
  },
  "language_info": {
   "codemirror_mode": {
    "name": "ipython",
    "version": 3
   },
   "file_extension": ".py",
   "mimetype": "text/x-python",
   "name": "python",
   "nbconvert_exporter": "python",
   "pygments_lexer": "ipython3",
   "version": "3.9.13"
  }
 },
 "nbformat": 4,
 "nbformat_minor": 5
}
