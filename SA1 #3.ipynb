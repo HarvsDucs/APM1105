{
 "cells": [
  {
   "cell_type": "code",
   "execution_count": 1,
   "id": "df2bb125",
   "metadata": {},
   "outputs": [
    {
     "name": "stdout",
     "output_type": "stream",
     "text": [
      "x0 = 2\n",
      "x1 = 2.154\n",
      "x2 = 2.097\n",
      "x3 = 2.119\n",
      "x4 = 2.111\n",
      "x5 = 2.114\n",
      "x6 = 2.113\n",
      "x7 = 2.113\n",
      "The solution for x^3 + 5x = 20 is x = 2.113\n"
     ]
    }
   ],
   "source": [
    "def iterative_formula(x):\n",
    "    return (20 - 5*x)**(1/3)\n",
    "\n",
    "x0 = 2\n",
    "\n",
    "print(\"x0 =\", round(x0, 3))\n",
    "\n",
    "x_old = x0\n",
    "counter = 1\n",
    "while True:\n",
    "    \n",
    "    x_new = iterative_formula(x_old)\n",
    "\n",
    "    print(f\"x{counter} =\", round(x_new, 3))\n",
    "    counter+=1\n",
    "    if round(x_new, 3) == round(x_old, 3):\n",
    "        break\n",
    "        \n",
    "    x_old = x_new\n",
    "    \n",
    "print(\"The solution for x^3 + 5x = 20 is x =\", round(x_new, 3))\n"
   ]
  },
  {
   "cell_type": "code",
   "execution_count": null,
   "id": "fca0c057",
   "metadata": {},
   "outputs": [],
   "source": []
  }
 ],
 "metadata": {
  "kernelspec": {
   "display_name": "Python 3 (ipykernel)",
   "language": "python",
   "name": "python3"
  },
  "language_info": {
   "codemirror_mode": {
    "name": "ipython",
    "version": 3
   },
   "file_extension": ".py",
   "mimetype": "text/x-python",
   "name": "python",
   "nbconvert_exporter": "python",
   "pygments_lexer": "ipython3",
   "version": "3.9.13"
  }
 },
 "nbformat": 4,
 "nbformat_minor": 5
}
