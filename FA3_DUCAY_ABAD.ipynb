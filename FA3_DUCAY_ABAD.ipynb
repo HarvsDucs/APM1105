{
 "cells": [
  {
   "cell_type": "code",
   "execution_count": 4,
   "metadata": {},
   "outputs": [
    {
     "name": "stdout",
     "output_type": "stream",
     "text": [
      "2\n",
      "4\n",
      "6\n",
      "8\n",
      "10\n",
      "24\n",
      "26\n",
      "28\n",
      "30\n",
      "32\n"
     ]
    }
   ],
   "source": [
    "def print_even(nums):\n",
    "    for number in nums:\n",
    "        if number%2 == 0:\n",
    "            print(number)\n",
    "            \n",
    "nums = [1, 2, 3, 4, 5, 6, 7, 8, 9, 10, 11, 13, 15, 17, 19, 24, 26, 28, 30, 32]\n",
    "print_even(nums)"
   ]
  },
  {
   "cell_type": "code",
   "execution_count": 8,
   "metadata": {},
   "outputs": [
    {
     "name": "stdout",
     "output_type": "stream",
     "text": [
      "[10, 12, 14, 16, 18, 20, 22, 24, 26, 28, 30, 32, 34, 36, 38, 40, 42, 44, 46, 48, 50, 52, 54, 56, 58, 60]\n"
     ]
    }
   ],
   "source": [
    "def even_10_to_60():\n",
    "    numbers = []\n",
    "    for number in range(10,61):\n",
    "        if number%2 == 0:\n",
    "            numbers.append(number)\n",
    "    print(numbers)\n",
    "even_10_to_60()"
   ]
  },
  {
   "cell_type": "code",
   "execution_count": 37,
   "metadata": {},
   "outputs": [
    {
     "name": "stdout",
     "output_type": "stream",
     "text": [
      "Professor's name is Sir Gella\n",
      "Their salary is: 1000000 php\n",
      "Professor's name is Sir Andaya\n",
      "Their salary is: 70000 php\n",
      "Professor's name is Sir Al\n",
      "Their salary is: 500000 php\n",
      "Professor's name is Ma'am Malou\n",
      "Their salary is: 600000 php\n",
      "Professor's name is Ma'am Joanna\n",
      "Their salary is: 70000 php\n"
     ]
    }
   ],
   "source": [
    "def show_feu_professor(name,salary=None):\n",
    "    if salary == None:\n",
    "        salary = 70000\n",
    "    print(f\"Professor's name is {name}\")\n",
    "    print(f\"Their salary is: {salary} php\")\n",
    "show_feu_professor(\"Sir Gella\", 1000000)\n",
    "show_feu_professor(\"Sir Andaya\")\n",
    "show_feu_professor(\"Sir Al\", 500000)\n",
    "show_feu_professor(\"Ma'am Malou\", 600000)\n",
    "show_feu_professor(\"Ma'am Joanna\")"
   ]
  },
  {
   "cell_type": "code",
   "execution_count": null,
   "metadata": {},
   "outputs": [],
   "source": []
  }
 ],
 "metadata": {
  "kernelspec": {
   "display_name": "Python 3",
   "language": "python",
   "name": "python3"
  },
  "language_info": {
   "codemirror_mode": {
    "name": "ipython",
    "version": 3
   },
   "file_extension": ".py",
   "mimetype": "text/x-python",
   "name": "python",
   "nbconvert_exporter": "python",
   "pygments_lexer": "ipython3",
   "version": "3.7.0"
  }
 },
 "nbformat": 4,
 "nbformat_minor": 2
}
