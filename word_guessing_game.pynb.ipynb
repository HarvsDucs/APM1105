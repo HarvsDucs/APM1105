{
 "cells": [
  {
   "cell_type": "code",
   "execution_count": 1,
   "id": "ba644b67",
   "metadata": {},
   "outputs": [
    {
     "name": "stdout",
     "output_type": "stream",
     "text": [
      "Dataset saved to file.\n"
     ]
    }
   ],
   "source": [
    "import requests\n",
    "\n",
    "# URL of the raw dataset file on GitHub\n",
    "url = 'https://raw.githubusercontent.com/AllenDowney/ThinkPython2/master/code/words.txt'\n",
    "\n",
    "# Send a GET request to the URL\n",
    "response = requests.get(url)\n",
    "\n",
    "# Check if the request was successful\n",
    "if response.status_code == 200:\n",
    "    # Save the content of the response to a file\n",
    "    with open('words.txt', 'wb') as f:\n",
    "        f.write(response.content)\n",
    "        print('Dataset saved to file.')\n",
    "else:\n",
    "    print('Failed to download dataset.')"
   ]
  },
  {
   "cell_type": "code",
   "execution_count": 2,
   "id": "6e746607",
   "metadata": {},
   "outputs": [
    {
     "data": {
      "text/plain": [
       "'ephedrin'"
      ]
     },
     "execution_count": 2,
     "metadata": {},
     "output_type": "execute_result"
    }
   ],
   "source": [
    "import random\n",
    "\n",
    "def random_word():\n",
    "    with open('words.txt', 'r') as f:\n",
    "        word_list = f.readlines()\n",
    "    random_word = random.choice(word_list).strip()\n",
    "    return random_word\n",
    "random_word = random_word()\n",
    "random_word"
   ]
  },
  {
   "cell_type": "code",
   "execution_count": 3,
   "id": "f8714ef9",
   "metadata": {},
   "outputs": [
    {
     "name": "stdout",
     "output_type": "stream",
     "text": [
      "Enter a letter: a\n"
     ]
    },
    {
     "data": {
      "text/plain": [
       "'a'"
      ]
     },
     "execution_count": 3,
     "metadata": {},
     "output_type": "execute_result"
    }
   ],
   "source": [
    "def get_guess():\n",
    "    while True:\n",
    "        guess = input(\"Enter a letter: \")\n",
    "        if len(guess) == 1 and guess.isalpha():\n",
    "            return guess.lower()\n",
    "        else:\n",
    "            print(\"Invalid input. Please enter a single letter.\")\n",
    "guessed_letters = get_guess()\n",
    "guessed_letters"
   ]
  },
  {
   "cell_type": "code",
   "execution_count": 4,
   "id": "db8d4ec4",
   "metadata": {},
   "outputs": [],
   "source": [
    "def display_word(random_word, guessed_letters):\n",
    "    display = ['_' for letter in word]\n",
    "    \n",
    "    # Replace underscores with guessed letters\n",
    "    for i in range(len(random_word)):\n",
    "        if random_word[i] in guessed_letters:\n",
    "            display[i] = word[i]\n",
    "    \n",
    "    # Join the list into a string and return it\n",
    "    return ' '.join(display)"
   ]
  },
  {
   "cell_type": "code",
   "execution_count": 5,
   "id": "43ceda46",
   "metadata": {},
   "outputs": [
    {
     "name": "stdout",
     "output_type": "stream",
     "text": [
      "Enter a letter: a\n",
      "Incorrect.\n",
      "6 guesses remaining.\n",
      "_ _ _ _ _ _ _ _\n",
      "Enter a letter: b\n",
      "Incorrect.\n",
      "5 guesses remaining.\n",
      "_ _ _ _ _ _ _ _\n",
      "Enter a letter: c\n",
      "Incorrect.\n",
      "4 guesses remaining.\n",
      "_ _ _ _ _ _ _ _\n",
      "Enter a letter: d\n",
      "Correct!\n",
      "d _ _ _ d _ _ d\n",
      "Enter a letter: e\n",
      "Correct!\n",
      "d _ _ _ d e _ d\n",
      "Enter a letter: f\n",
      "Incorrect.\n",
      "3 guesses remaining.\n",
      "d _ _ _ d e _ d\n",
      "Enter a letter: g\n",
      "Incorrect.\n",
      "2 guesses remaining.\n",
      "d _ _ _ d e _ d\n",
      "Enter a letter: h\n",
      "Incorrect.\n",
      "1 guesses remaining.\n",
      "d _ _ _ d e _ d\n",
      "Enter a letter: i\n",
      "Correct!\n",
      "d i _ i d e _ d\n",
      "Enter a letter: j\n",
      "Incorrect.\n",
      "0 guesses remaining.\n",
      "d i _ i d e _ d\n",
      "Sorry, you lose. The word was: dividend\n"
     ]
    }
   ],
   "source": [
    "import random\n",
    "\n",
    "MAX_GUESSES = 7\n",
    "\n",
    "def random_word():\n",
    "    with open('words.txt', 'r') as f:\n",
    "        word_list = f.readlines()\n",
    "    random_word = random.choice(word_list).strip()\n",
    "    return random_word\n",
    "\n",
    "def get_guess():\n",
    "    while True:\n",
    "        guess = input(\"Enter a letter: \")\n",
    "        if len(guess) == 1 and guess.isalpha():\n",
    "            return guess.lower()\n",
    "        else:\n",
    "            print(\"Invalid input. Please enter a single letter.\")\n",
    "\n",
    "def display_word(word, guessed_letters):\n",
    "    display = ['_' for letter in word]\n",
    "\n",
    "    for i in range(len(word)):\n",
    "        if word[i] in guessed_letters:\n",
    "            display[i] = word[i]\n",
    "    \n",
    "    return ' '.join(display)\n",
    "\n",
    "def main():\n",
    "    \n",
    "    word = random_word()\n",
    "\n",
    "    num_wrong_guesses = 0\n",
    "\n",
    "    guessed_letters = []\n",
    "\n",
    "    display_word(word, guessed_letters)\n",
    "\n",
    "    while num_wrong_guesses < MAX_GUESSES:\n",
    "        # Get a guess from the player\n",
    "        guess = get_guess()\n",
    "\n",
    "        # Check if the guess is correct\n",
    "        if guess in word:\n",
    "            print(\"Correct!\")\n",
    "            guessed_letters.append(guess)\n",
    "        else:\n",
    "            print(\"Incorrect.\")\n",
    "            num_wrong_guesses += 1\n",
    "            print(f\"{MAX_GUESSES-num_wrong_guesses} guesses remaining.\")\n",
    "\n",
    "        # Display the updated state of the word to the player\n",
    "        display = display_word(word, guessed_letters)\n",
    "        print(display)\n",
    "        # Check if the word has been guessed\n",
    "        if all(letter in guessed_letters for letter in word):\n",
    "            print(\"Congratulations, you guessed the word!\")\n",
    "            return\n",
    "\n",
    "    print(\"Sorry, you lose. The word was:\", word)\n",
    "\n",
    "# Run the game\n",
    "main()\n"
   ]
  },
  {
   "cell_type": "code",
   "execution_count": null,
   "id": "b41f3da5",
   "metadata": {},
   "outputs": [],
   "source": []
  }
 ],
 "metadata": {
  "kernelspec": {
   "display_name": "Python 3 (ipykernel)",
   "language": "python",
   "name": "python3"
  },
  "language_info": {
   "codemirror_mode": {
    "name": "ipython",
    "version": 3
   },
   "file_extension": ".py",
   "mimetype": "text/x-python",
   "name": "python",
   "nbconvert_exporter": "python",
   "pygments_lexer": "ipython3",
   "version": "3.9.13"
  }
 },
 "nbformat": 4,
 "nbformat_minor": 5
}
